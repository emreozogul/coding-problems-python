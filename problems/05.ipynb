{
 "cells": [
  {
   "cell_type": "markdown",
   "id": "9dd03a0b",
   "metadata": {},
   "source": [
    "## **1: Super Strict Grading**\n",
    "\n",
    "Given a dictionary of *student names* and a list of their *test scores over the semester*, return a list of all the students who passed the course (*in alphabetical order*). However, there is one more thing to mention: **the pass mark is 100% in everything!**\n",
    "\n",
    "### **Examples**\n",
    "\n",
    "```\n",
    "who_passed({\n",
    "  \"John\" : [\"5/5\", \"50/50\", \"10/10\", \"10/10\"],\n",
    "  \"Sarah\" : [\"4/8\", \"50/57\", \"7/10\", \"10/18\"],\n",
    "  \"Adam\" : [\"8/10\", \"22/25\", \"3/5\", \"5/5\"],\n",
    "  \"Barry\" : [\"3/3\", \"20/20\"]\n",
    "}) ➞ [\"Barry\", \"John\"]\n",
    "\n",
    "who_passed({\n",
    "  \"Zara\" : [\"10/10\"],\n",
    "  \"Kris\" : [\"30/30\"],\n",
    "  \"Charlie\" : [\"100/100\"],\n",
    "  \"Alex\" : [\"1/1\"]\n",
    "}) ➞ [\"Alex\", \"Charlie\", \"Kris\", \"Zara\"]\n",
    "\n",
    "who_passed({\n",
    "  \"Zach\" : [\"10/10\", \"2/4\"],\n",
    "  \"Fred\" : [\"7/9\", \"2/3\"]\n",
    "}) ➞ []\n",
    "```\n",
    "\n",
    "### **Notes**\n",
    "\n",
    "- **All** of a student's test scores must be *100%* to pass.\n",
    "- Remember to return a list of student names *alphabetically*."
   ]
  }
 ],
 "metadata": {
  "kernelspec": {
   "display_name": "env",
   "language": "python",
   "name": "python3"
  },
  "language_info": {
   "name": "python",
   "version": "3.13.5"
  }
 },
 "nbformat": 4,
 "nbformat_minor": 5
}
