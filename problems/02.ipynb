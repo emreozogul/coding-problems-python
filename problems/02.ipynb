{
 "cells": [
  {
   "cell_type": "markdown",
   "id": "65cf7121",
   "metadata": {},
   "source": [
    "## **1- Where is Bob!?!**\n",
    "\n",
    "Write a function that searches a list of names (unsorted) for the name *\"Bob\"* and returns the location in the list. If Bob is not in the list, return `-1`.\n",
    "\n",
    "### **Examples**\n",
    "\n",
    "```\n",
    "find_bob([\"Jimmy\", \"Layla\", \"Bob\"]) ➞ 2\n",
    "\n",
    "find_bob([\"Bob\", \"Layla\", \"Kaitlyn\", \"Patricia\"]) ➞ 0\n",
    "\n",
    "find_bob([\"Jimmy\", \"Layla\", \"James\"]) ➞ -1\n",
    "```\n",
    "\n",
    "### **Notes**\n",
    "\n",
    "Assume all names start with a capital letter and are lowercase thereafter (i.e. don't worry about finding \"BOB\" or \"bob\").\n",
    "\n",
    "```\n",
    "```"
   ]
  },
  {
   "cell_type": "code",
   "execution_count": 9,
   "id": "5353e3c3",
   "metadata": {},
   "outputs": [
    {
     "name": "stdout",
     "output_type": "stream",
     "text": [
      "2\n",
      "0\n",
      "-1\n"
     ]
    }
   ],
   "source": [
    "def find_bob(names):\n",
    "    index =  0 \n",
    "    for name in names : \n",
    "        if name == \"Bob\": \n",
    "            return index\n",
    "        index+=1\n",
    "    return -1 \n",
    "\n",
    "# Alternative 1 \n",
    "def find_bob1(names):\n",
    "    for i, name in enumerate(names):\n",
    "        if name == \"Bob\":\n",
    "            return i\n",
    "    return -1\n",
    "# Alternative 2\n",
    "def find_bob2(names):\n",
    "    return names.index(\"Bob\") if \"Bob\" in names else -1\n",
    "\n",
    "\n",
    "print(find_bob([\"Jimmy\", \"Layla\", \"Bob\"]))\n",
    "\n",
    "print(find_bob1([\"Bob\", \"Layla\", \"Kaitlyn\", \"Patricia\"]))\n",
    "\n",
    "print(find_bob2([\"Jimmy\", \"Layla\", \"James\"]))\n"
   ]
  },
  {
   "cell_type": "markdown",
   "id": "e3c8724f",
   "metadata": {},
   "source": [
    "## **2- Count the Letters and Digits**\n",
    "\n",
    "Write a function that takes a string and calculates the number of letters and digits within it. Return the result in a dictionary.\n",
    "\n",
    "### **Examples**\n",
    "\n",
    "```\n",
    "count_all(\"Hello World\") ➞ { \"LETTERS\":  10, \"DIGITS\": 0 }\n",
    "\n",
    "count_all(\"H3ll0 Wor1d\") ➞ { \"LETTERS\":  7, \"DIGITS\": 3 }\n",
    "\n",
    "count_all(\"149990\") ➞ { \"LETTERS\": 0, \"DIGITS\": 6 }\n",
    "```\n",
    "\n",
    "### **Notes**\n",
    "\n",
    "- Tests contain only alphanumeric characters.\n",
    "- Spaces are not letters.\n",
    "- All tests contain valid strings."
   ]
  },
  {
   "cell_type": "code",
   "execution_count": 10,
   "id": "d1be02ef",
   "metadata": {},
   "outputs": [
    {
     "name": "stdout",
     "output_type": "stream",
     "text": [
      "{'LETTERS': 10, 'DIGITS': 0}\n",
      "{'LETTERS': 7, 'DIGITS': 3}\n",
      "{'LETTERS': 0, 'DIGITS': 6}\n"
     ]
    }
   ],
   "source": [
    "def count_all(s):\n",
    "    result = {\"LETTERS\": 0, \"DIGITS\": 0}\n",
    "    for char in s:\n",
    "        if char.isalpha():\n",
    "            result[\"LETTERS\"] += 1\n",
    "        elif char.isdigit():\n",
    "            result[\"DIGITS\"] += 1\n",
    "    return result\n",
    "\n",
    "print(count_all(\"Hello World\"))     # {\"LETTERS\": 10, \"DIGITS\": 0}\n",
    "print(count_all(\"H3ll0 Wor1d\"))     # {\"LETTERS\": 7, \"DIGITS\": 3}\n",
    "print(count_all(\"149990\"))          # {\"LETTERS\": 0, \"DIGITS\": 6}\n"
   ]
  },
  {
   "cell_type": "markdown",
   "id": "9c6d208c",
   "metadata": {},
   "source": [
    "## **Return a List of Sublists**\n",
    "\n",
    "Write a function that takes three arguments `(x, y, z)` and returns a list containing `x` sublists (e.g. `[[], [], []]`), each containing `y` number of item `z`.\n",
    "\n",
    "- `x` Number of sublists contained within the main list.\n",
    "- `y` Number of items contained within each sublist.\n",
    "- `z` Item contained within each sublist.\n",
    "\n",
    "### **Examples**\n",
    "\n",
    "```\n",
    "matrix(3, 2, 3) ➞ [[3, 3], [3, 3], [3, 3]]\n",
    "\n",
    "matrix(2, 1, \"edabit\") ➞ [[\"edabit\"], [\"edabit\"]]\n",
    "\n",
    "matrix(3, 2, 0) ➞ [[0, 0], [0, 0], [0, 0]]\n",
    "```\n",
    "\n",
    "### **Notes**\n",
    "\n",
    "- The first two arguments will always be integers.\n",
    "- The third argument is either a string or an integer."
   ]
  },
  {
   "cell_type": "code",
   "execution_count": 13,
   "id": "dc717418",
   "metadata": {},
   "outputs": [
    {
     "name": "stdout",
     "output_type": "stream",
     "text": [
      "[[3, 3], [3, 3], [3, 3]]\n",
      "[['edabit'], ['edabit']]\n",
      "[[0, 0], [0, 0], [0, 0]]\n"
     ]
    }
   ],
   "source": [
    "def matrix(x, y, z):\n",
    "    return [[z for _ in range(y)] for _ in range(x)]\n",
    "\n",
    "print(matrix(3, 2, 3))\n",
    "# ➞ [[3, 3], [3, 3], [3, 3]]\n",
    "\n",
    "print(matrix(2, 1, \"edabit\"))\n",
    "# ➞ [[\"edabit\"], [\"edabit\"]]\n",
    "\n",
    "print(matrix(3, 2, 0))\n",
    "# ➞ [[0, 0], [0, 0], [0, 0]]\n",
    "\n"
   ]
  },
  {
   "cell_type": "markdown",
   "id": "08c48498",
   "metadata": {},
   "source": [
    "## **4- Letter Occurrences Per Word**\n",
    "\n",
    "Create a function that takes in a **sentence** and a **character** to find. Return a dictionary of each word in the sentence, with the number of the specified character as the value.\n",
    "\n",
    "### **Examples**\n",
    "\n",
    "```\n",
    "find_occurrences(\"Hello World\", \"o\") ➞ {\n",
    "  \"hello\" : 1,\n",
    "  \"world\" : 1\n",
    "}\n",
    "\n",
    "find_occurrences(\"Create a nice JUICY function\", \"c\") ➞  {\n",
    "  \"create\" : 1,\n",
    "  \"a\" : 0,\n",
    "  \"nice\" : 1,\n",
    "  \"juicy\" : 1,\n",
    "  \"function\" : 1\n",
    "}\n",
    "\n",
    "find_occurrences(\"An APPLE a day keeps an Archeologist AWAY...\", \"A\") ➞ {\n",
    "  \"an\" : 1,\n",
    "  \"apple\" : 1,\n",
    "  \"a\" : 1,\n",
    "  \"day\" : 1,\n",
    "  \"keeps\" : 0,\n",
    "  \"archeologist\" : 1,\n",
    "  \"away...\" : 2\n",
    "}\n",
    "```\n",
    "\n",
    "### **Notes**\n",
    "\n",
    "- The function shouldn't be case sensitive.\n",
    "- Words in the dictionary should be in lowercase.\n",
    "- You may be required to find punctuation.\n",
    "- Duplicate words should be ignored (see example #3 for the word \"an\")."
   ]
  },
  {
   "cell_type": "code",
   "execution_count": 17,
   "id": "ba9c8695",
   "metadata": {},
   "outputs": [
    {
     "name": "stdout",
     "output_type": "stream",
     "text": [
      "{'hello': 1, 'world': 1}\n",
      "{'create': 1, 'a': 0, 'nice': 1, 'juicy': 1, 'function': 1}\n",
      "{'an': 1, 'apple': 1, 'a': 1, 'day': 1, 'keeps': 0, 'archeologist': 1, 'away...': 2}\n"
     ]
    }
   ],
   "source": [
    "def find_occurrences(sentence, char):\n",
    "    char = char.lower()\n",
    "    words = sentence.lower().split()\n",
    "    result = {}\n",
    "    for word in words:\n",
    "        if word not in result:\n",
    "            result[word] = word.count(char)\n",
    "    return result\n",
    "\n",
    "print(find_occurrences(\"Hello World\", \"o\"))\n",
    "# ➞ {\"hello\": 1, \"world\": 1}\n",
    "\n",
    "print(find_occurrences(\"Create a nice JUICY function\", \"c\"))\n",
    "# ➞ {\"create\": 1, \"a\": 0, \"nice\": 1, \"juicy\": 1, \"function\": 1}\n",
    "\n",
    "print(find_occurrences(\"An APPLE a day keeps an Archeologist AWAY...\", \"A\"))\n",
    "# ➞ {\"an\": 1, \"apple\": 1, \"a\": 1, \"day\": 1, \"keeps\": 0, \"archeologist\": 1, \"away...\": 2}\n"
   ]
  },
  {
   "cell_type": "markdown",
   "id": "eefdb4eb",
   "metadata": {},
   "source": [
    "## **5- Who's The Oldest?**\n",
    "\n",
    "Given a dictionary containing the *names* and *ages* of a group of people, return the **name** of the *oldest* person.\n",
    "\n",
    "### **Examples**\n",
    "\n",
    "```\n",
    "oldest({\n",
    "  \"Emma\": 71,\n",
    "  \"Jack\": 45,\n",
    "  \"Amy\": 15,\n",
    "  \"Ben\": 29\n",
    "}) ➞ \"Emma\"\n",
    "\n",
    "oldest({\n",
    "  \"Max\": 9,\n",
    "  \"Josh\": 13,\n",
    "  \"Sam\": 48,\n",
    "  \"Anne\": 33\n",
    "}) ➞ \"Sam\"\n",
    "```\n",
    "\n",
    "### **Notes**\n",
    "\n",
    "All ages will be different."
   ]
  },
  {
   "cell_type": "code",
   "execution_count": 20,
   "id": "63eb75e2",
   "metadata": {},
   "outputs": [
    {
     "name": "stdout",
     "output_type": "stream",
     "text": [
      "Emma\n",
      "Sam\n"
     ]
    }
   ],
   "source": [
    "def oldest(people):\n",
    "    return max(people, key=people.get)\n",
    "\n",
    "#alternative   \n",
    "\n",
    "def oldest1(people):\n",
    "    max_age = -1\n",
    "    oldest_name = \"\"\n",
    "    for name, age in people.items():\n",
    "        if age > max_age:\n",
    "            max_age = age\n",
    "            oldest_name = name\n",
    "    return oldest_name\n",
    "\n",
    "print(oldest({\n",
    "  \"Emma\": 71,\n",
    "  \"Jack\": 45,\n",
    "  \"Amy\": 15,\n",
    "  \"Ben\": 29\n",
    "}))\n",
    "# ➞ \"Emma\"\n",
    "\n",
    "print(oldest({\n",
    "  \"Max\": 9,\n",
    "  \"Josh\": 13,\n",
    "  \"Sam\": 48,\n",
    "  \"Anne\": 33\n",
    "}))\n",
    "# ➞ \"Sam\"\n",
    "\n"
   ]
  },
  {
   "cell_type": "markdown",
   "id": "f35968d3",
   "metadata": {},
   "source": [
    "## **6- Finding Adjacent Nodes**\n",
    "\n",
    "A graph is a set of nodes and edges that connect those nodes.\n",
    "\n",
    "There are two types of graphs; directed and undirected. In an undirected graph, the edges between nodes have no particular direction (like a two-way street) whereas in a directed graph, each edge has a direction associated with it (like a one-way street).\n",
    "\n",
    "For two nodes in a graph to be considered adjacent to one another, there must be an edge between them. In the example given above, nodes 0 and 1 are adjacent, but nodes 0 and 2 are not.\n",
    "\n",
    "We can encode graphs using an adjacency matrix. An adjacency matrix for a graph with \"n\" nodes is an \"n \\* n\" matrix where the entry at row \"i\" and column \"j\" is a 0 if nodes \"i\" and \"j\" are not adjacent, and 1 if nodes \"i\" and \"j\" are adjacent.\n",
    "\n",
    "For the example above, the adjacency matrix would be as follows:\n",
    "\n",
    "```\n",
    "[\n",
    "  [ 0, 1, 0, 0 ],\n",
    "  [ 1, 0, 1, 1 ],\n",
    "  [ 0, 1, 0, 1 ],\n",
    "  [ 0, 1, 1, 0 ]\n",
    "]\n",
    "```\n",
    "\n",
    "A one indicates that a connection is true and a zero indicates a connection is false.\n",
    "\n",
    "Here is how the above model might be written out:\n",
    "\n",
    "- On the first row, node 0 does not connect to itself, but it does connect to node 1. It does not connect to node 2 or node 3. The row is written as 0, 1, 0, 0.\n",
    "- On the second row, node 1 connects to node 0, node 2 and node 3, but it does not connect to itself. The row is written as 1, 0, 1, 1.\n",
    "- On the third row, node 2 does not connect to node 0, but it does connect to node 1, does not connect to itself, and it does connect to node 3. The row is written as 0, 1, 0, 1\n",
    "- On the fourth row, node 3 does not connect to node 0, but it does connect to node 1 and node 2. It does not connect to itself. The row is written as 0, 1, 1, 0.\n",
    "\n",
    "Your task is to determine if two nodes are adjacent in an undirected graph when given the adjacency matrix and the two nodes.\n",
    "\n",
    "### **Examples**\n",
    "\n",
    "Adjacency Matrix:\n",
    "\n",
    "```\n",
    "[\n",
    "  [ 0, 1, 0, 0 ],\n",
    "  [ 1, 0, 1, 1 ],\n",
    "  [ 0, 1, 0, 1 ],\n",
    "  [ 0, 1, 1, 0 ]\n",
    "]\n",
    "```\n",
    "\n",
    "- Nodes `0,1` should return `True`.\n",
    "- Nodes `0,2` should return `False`.\n",
    "\n",
    "```\n",
    "[\n",
    "  [ 0, 1, 0, 1, 1 ],\n",
    "  [ 1, 0, 1, 0, 0 ],\n",
    "  [ 0, 1, 0, 1, 0 ],\n",
    "  [ 1, 0, 1, 0, 1 ],\n",
    "  [ 1, 0, 0, 1, 0 ]\n",
    "]\n",
    "```\n",
    "\n",
    "- Nodes `0,3` should return `True`.\n",
    "- Nodes `1,4` should return `False`.\n",
    "\n",
    "### **Notes**\n",
    "\n",
    "- Graphs may have between 0 and 25,000 nodes.\n",
    "- Time Limit: 100 milliseconds."
   ]
  },
  {
   "cell_type": "code",
   "execution_count": 22,
   "id": "69c7627e",
   "metadata": {},
   "outputs": [
    {
     "name": "stdout",
     "output_type": "stream",
     "text": [
      "True\n",
      "False\n",
      "True\n",
      "False\n"
     ]
    }
   ],
   "source": [
    "def is_adjacent(matrix, node1, node2):\n",
    "    return matrix[node1][node2] == 1\n",
    "\n",
    "graph = [\n",
    "  [0, 1, 0, 0],\n",
    "  [1, 0, 1, 1],\n",
    "  [0, 1, 0, 1],\n",
    "  [0, 1, 1, 0]\n",
    "]\n",
    "\n",
    "print(is_adjacent(graph, 0, 1))  # True\n",
    "print(is_adjacent(graph, 0, 2))  # False\n",
    "\n",
    "graph1 = [\n",
    "  [0, 1, 0, 1, 1],\n",
    "  [1, 0, 1, 0, 0],\n",
    "  [0, 1, 0, 1, 0],\n",
    "  [1, 0, 1, 0, 1],\n",
    "  [1, 0, 0, 1, 0]\n",
    "]\n",
    "\n",
    "print(is_adjacent(graph1, 0, 3))  # True\n",
    "print(is_adjacent(graph1, 1, 4))  # False\n"
   ]
  },
  {
   "cell_type": "code",
   "execution_count": null,
   "id": "fa9ec237",
   "metadata": {},
   "outputs": [],
   "source": []
  },
  {
   "cell_type": "code",
   "execution_count": null,
   "id": "e89106c0",
   "metadata": {},
   "outputs": [],
   "source": []
  }
 ],
 "metadata": {
  "kernelspec": {
   "display_name": "env",
   "language": "python",
   "name": "python3"
  },
  "language_info": {
   "codemirror_mode": {
    "name": "ipython",
    "version": 3
   },
   "file_extension": ".py",
   "mimetype": "text/x-python",
   "name": "python",
   "nbconvert_exporter": "python",
   "pygments_lexer": "ipython3",
   "version": "3.13.5"
  }
 },
 "nbformat": 4,
 "nbformat_minor": 5
}
