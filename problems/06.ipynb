{
 "cells": [
  {
   "cell_type": "markdown",
   "id": "7e08d8de",
   "metadata": {},
   "source": []
  }
 ],
 "metadata": {
  "language_info": {
   "name": "python"
  }
 },
 "nbformat": 4,
 "nbformat_minor": 5
}
