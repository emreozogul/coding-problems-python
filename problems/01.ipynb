{
 "cells": [
  {
   "cell_type": "markdown",
   "id": "e028d9ad",
   "metadata": {},
   "source": [
    "# Return the Sum of Two Numbers\n",
    "## Create a function that takes two numbers as arguments and returns their sum.\n",
    "\n",
    "Examples\n",
    "addition(3, 2) ➞ 5\n",
    "\n",
    "addition(-3, -6) ➞ -9\n",
    "\n",
    "addition(7, 3) ➞ 10"
   ]
  },
  {
   "cell_type": "code",
   "execution_count": 1,
   "id": "a12dc349",
   "metadata": {},
   "outputs": [],
   "source": [
    "def addition(a, b):\n",
    "    return a+b  \n"
   ]
  },
  {
   "cell_type": "code",
   "execution_count": 3,
   "id": "8ee0cf64",
   "metadata": {},
   "outputs": [
    {
     "name": "stdout",
     "output_type": "stream",
     "text": [
      "5\n",
      "-9\n",
      "10\n"
     ]
    }
   ],
   "source": [
    "print(addition(3,2))\n",
    "print(addition(-3,-6))\n",
    "print(addition(7,3))"
   ]
  },
  {
   "cell_type": "markdown",
   "id": "00c88950",
   "metadata": {},
   "source": [
    "# Convert Minutes into Seconds\n",
    "## Write a function that takes an integer minutes and converts it to seconds.\n",
    "\n",
    "Examples\n",
    "convert(5) ➞ 300\n",
    "\n",
    "convert(3) ➞ 180\n",
    "\n",
    "convert(2) ➞ 120"
   ]
  },
  {
   "cell_type": "code",
   "execution_count": 1,
   "id": "af97088d",
   "metadata": {},
   "outputs": [],
   "source": [
    "def convert(a): \n",
    "    return a*60"
   ]
  },
  {
   "cell_type": "code",
   "execution_count": 2,
   "id": "d14d6925",
   "metadata": {},
   "outputs": [
    {
     "name": "stdout",
     "output_type": "stream",
     "text": [
      "60\n",
      "120\n",
      "180\n"
     ]
    }
   ],
   "source": [
    "print(convert(1))\n",
    "print(convert(2))\n",
    "print(convert(3))"
   ]
  },
  {
   "cell_type": "markdown",
   "id": "8a3718d4",
   "metadata": {},
   "source": [
    "# Stuttering Function\n",
    "## Write a function that stutters a word as if someone is struggling to read it. The first two letters are repeated twice with an ellipsis ... and space after each, and then the word is pronounced with a question mark ?.\n",
    "\n",
    "## Examples\n",
    "stutter(\"incredible\") ➞ \"in... in... incredible?\"\n",
    "\n",
    "stutter(\"enthusiastic\") ➞ \"en... en... enthusiastic?\"\n",
    "\n",
    "stutter(\"outstanding\") ➞ \"ou... ou... outstanding?\"\n",
    "## Notes\n",
    "## Assume all input is in lower case and at least two characters long."
   ]
  },
  {
   "cell_type": "code",
   "execution_count": 9,
   "id": "282730e9",
   "metadata": {},
   "outputs": [],
   "source": [
    "def stutter(word):\n",
    "    return  (word[0:2]+\".\"*3+\" \")*2 +word+\"?\""
   ]
  },
  {
   "cell_type": "code",
   "execution_count": 10,
   "id": "78e31d73",
   "metadata": {},
   "outputs": [
    {
     "name": "stdout",
     "output_type": "stream",
     "text": [
      "in... in... incredible?\n",
      "en... en... enthusiastic?\n",
      "ou... ou... outstanding?\n"
     ]
    }
   ],
   "source": [
    "print(stutter(\"incredible\"))\n",
    "\n",
    "print(stutter(\"enthusiastic\"))\n",
    "\n",
    "print(stutter(\"outstanding\"))"
   ]
  },
  {
   "cell_type": "markdown",
   "id": "c805fefc",
   "metadata": {},
   "source": [
    "Invert Colors\n",
    "Create a function that inverts the rgb values of a given tuple.\n",
    "\n",
    "Examples\n",
    "color_invert((255, 255, 255)) ➞ (0, 0, 0)\n",
    "# (255, 255, 255) is the color white.\n",
    "# The opposite is (0, 0, 0), which is black.\n",
    "\n",
    "color_invert((0, 0, 0)) ➞ (255, 255, 255)\n",
    "\n",
    "color_invert((165, 170, 221)) ➞ (90, 85, 34)\n",
    "Notes\n",
    "Must return a tuple.\n",
    "255 is the max value of a single color channel."
   ]
  },
  {
   "cell_type": "code",
   "execution_count": 14,
   "id": "7d213ced",
   "metadata": {},
   "outputs": [
    {
     "data": {
      "text/plain": [
       "(90, 85, 34)"
      ]
     },
     "execution_count": 14,
     "metadata": {},
     "output_type": "execute_result"
    }
   ],
   "source": [
    "def color_invert(tupp):\n",
    "    return tuple(255 -x for  x in tupp )\n",
    "\n",
    "color_invert((165, 170, 221))"
   ]
  },
  {
   "cell_type": "markdown",
   "id": "884f6e63",
   "metadata": {},
   "source": [
    "\n",
    "Purge and Organize\n",
    "Given a list of numbers, write a function that returns a list that...\n",
    "\n",
    "Has all duplicate elements removed.\n",
    "Is sorted from least to greatest value.\n",
    "Examples\n",
    "unique_sort([1, 2, 4, 3]) ➞ [1, 2, 3, 4]\n",
    "\n",
    "unique_sort([1, 4, 4, 4, 4, 4, 3, 2, 1, 2]) ➞ [1, 2, 3, 4]\n",
    "\n",
    "unique_sort([6, 7, 3, 2, 1]) ➞ [1, 2, 3, 6, 7]"
   ]
  },
  {
   "cell_type": "code",
   "execution_count": 16,
   "id": "c537c251",
   "metadata": {},
   "outputs": [
    {
     "name": "stdout",
     "output_type": "stream",
     "text": [
      "[1, 2, 3, 4]\n",
      "[1, 2, 3, 4]\n",
      "[1, 2, 3, 6, 7]\n"
     ]
    }
   ],
   "source": [
    "def unique_sort(lst):\n",
    "    return sorted(set(lst))\n",
    "    \n",
    "print(unique_sort([1, 2, 4, 3]))\n",
    "print(unique_sort([1, 4, 4, 4, 4, 4, 3, 2, 1, 2]))\n",
    "print(unique_sort([6, 7, 3, 2, 1]))"
   ]
  },
  {
   "cell_type": "markdown",
   "id": "afb6a1bc",
   "metadata": {},
   "source": [
    "Get Student Names\n",
    "Create a function that takes a dictionary of student names and returns a list of student names in alphabetical order.\n",
    "\n",
    "Examples\n",
    "get_student_names({\n",
    "  \"Student 1\" : \"Steve\",\n",
    "  \"Student 2\" : \"Becky\",\n",
    "  \"Student 3\" : \"John\"\n",
    "}) ➞ [\"Becky\", \"John\", \"Steve\"]\n",
    "Notes\n",
    "Don't forget to return your result.\n",
    "If you get stuck on a challenge, find help in the Resources tab.\n",
    "If you're really stuck, unlock solutions in the Solutions tab."
   ]
  },
  {
   "cell_type": "code",
   "execution_count": 17,
   "id": "21bb5fa4",
   "metadata": {},
   "outputs": [
    {
     "name": "stdout",
     "output_type": "stream",
     "text": [
      "['Becky', 'John', 'Steve']\n"
     ]
    }
   ],
   "source": [
    "def get_student_names(students):\n",
    "    return sorted(students.values())\n",
    "\n",
    "print(get_student_names({\n",
    "  \"Student 1\" : \"Steve\",\n",
    "  \"Student 2\" : \"Becky\",\n",
    "  \"Student 3\" : \"John\"\n",
    "}))\n",
    "# ➞ ['Becky', 'John', 'Steve']\n"
   ]
  },
  {
   "cell_type": "markdown",
   "id": "f29c7da5",
   "metadata": {},
   "source": [
    "## **7 - True Ones, False Zeros**\n",
    "\n",
    "Create a function which returns a list of *booleans*, from a given number. Iterating through the number one digit at a time, append `True` if the digit is 1 and `False` if it is 0.\n",
    "\n",
    "### **Examples**\n",
    "\n",
    "```\n",
    "integer_boolean(\"100101\") ➞ [True, False, False, True, False, True]\n",
    "\n",
    "integer_boolean(\"10\") ➞ [True, False]\n",
    "\n",
    "integer_boolean(\"001\") ➞ [False, False, True]\n",
    "```\n",
    "\n",
    "### **Notes**\n",
    "\n",
    "Expect numbers with 0 and 1 only."
   ]
  },
  {
   "cell_type": "code",
   "execution_count": 18,
   "id": "52b87d82",
   "metadata": {},
   "outputs": [
    {
     "name": "stdout",
     "output_type": "stream",
     "text": [
      "[True, False, False, True, False, True]\n",
      "[True, False]\n",
      "[False, False, True]\n"
     ]
    }
   ],
   "source": [
    "def integer_boolean(word):\n",
    "    return [char == \"1\" for char in word ]\n",
    "\n",
    "print(integer_boolean(\"100101\"))\n",
    "\n",
    "print(integer_boolean(\"10\"))\n",
    "\n",
    "print(integer_boolean(\"001\"))"
   ]
  },
  {
   "cell_type": "markdown",
   "id": "d95bc761",
   "metadata": {},
   "source": [
    "## **8- YouTube Upload Count**\n",
    "\n",
    "You are given a list of `dates` in the format `Dec 11` and a `month` in the format `Dec` as arguments. Each **date** represents a **video** that was uploaded on that day. Return the number of uploads for a given month.\n",
    "\n",
    "### **Examples**\n",
    "\n",
    "```\n",
    "upload_count([\"Sept 22\", \"Sept 21\", \"Oct 15\"], \"Sept\") ➞ 2\n",
    "\n",
    "upload_count([\"Sept 22\", \"Sept 21\", \"Oct 15\"], \"Oct\") ➞ 1\n",
    "```"
   ]
  },
  {
   "cell_type": "code",
   "execution_count": 20,
   "id": "2d9dea25",
   "metadata": {},
   "outputs": [
    {
     "name": "stdout",
     "output_type": "stream",
     "text": [
      "2\n",
      "1\n"
     ]
    }
   ],
   "source": [
    "def upload_count(arr, month):\n",
    "    return sum(x.startswith(month + \" \") for x in arr)\n",
    "\n",
    "print(upload_count([\"Sept 22\", \"Sept 21\", \"Oct 15\"], \"Sept\"))\n",
    "\n",
    "print(upload_count([\"Sept 22\", \"Sept 21\", \"Oct 15\"], \"Oct\"))"
   ]
  }
 ],
 "metadata": {
  "kernelspec": {
   "display_name": "env",
   "language": "python",
   "name": "python3"
  },
  "language_info": {
   "codemirror_mode": {
    "name": "ipython",
    "version": 3
   },
   "file_extension": ".py",
   "mimetype": "text/x-python",
   "name": "python",
   "nbconvert_exporter": "python",
   "pygments_lexer": "ipython3",
   "version": "3.13.5"
  }
 },
 "nbformat": 4,
 "nbformat_minor": 5
}
